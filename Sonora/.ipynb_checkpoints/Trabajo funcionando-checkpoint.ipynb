{
 "cells": [
  {
   "cell_type": "code",
   "execution_count": 1,
   "metadata": {},
   "outputs": [
    {
     "name": "stdout",
     "output_type": "stream",
     "text": [
      "dict_keys(['o Valdivia-Imperial.txt', 'o Valdivia-Santiago.txt', 'nario Valdivia.txt', 's Valdivia - Imperial.txt', 's Valdivia-Santiago.txt', 'e Valdivia.txt', 'ebrés.txt'])\n"
     ]
    }
   ],
   "source": [
    "import glob\n",
    "lista_files = glob.glob('Textos/*.txt')\n",
    "corpus = {}\n",
    "for file in lista_files:\n",
    "    with open(file, 'r', encoding=\"utf-8\") as file_input:\n",
    "        corpus[file[15:]]=file_input.read()\n",
    "print(corpus.keys())    "
   ]
  },
  {
   "cell_type": "code",
   "execution_count": 2,
   "metadata": {},
   "outputs": [],
   "source": [
    "import string\n",
    "def remover_puntuacion(s): \n",
    "    for c in string.punctuation:\n",
    "        s=s.replace(c,\"\")\n",
    "        s=s.replace('\\t','')\n",
    "    return s\n",
    "corpus_misional = []\n",
    "for key in corpus.keys():\n",
    "    corpus_misional += [corpus[key]]\n",
    "string_corpus_misional=' '.join(corpus_misional)\n",
    "string_corpus_misional = string_corpus_misional.split('\\n')\n",
    "vacio=[oracion for oracion in string_corpus_misional if len(oracion)>0]\n",
    "sin_puntos = []\n",
    "for oracion in vacio:\n",
    "    oracion_limpia = remover_puntuacion(oracion)\n",
    "    sin_puntos += [oracion_limpia.lower()]\n",
    "palabras = []\n",
    "for oracion in sin_puntos:\n",
    "    palabras += [oracion.split(' ')]"
   ]
  },
  {
   "cell_type": "code",
   "execution_count": 3,
   "metadata": {},
   "outputs": [],
   "source": [
    "transitivas=[]\n",
    "for oracion in palabras:\n",
    "    for item in oracion:\n",
    "        if item.endswith('eneu'):\n",
    "            transitivas+=[oracion]"
   ]
  },
  {
   "cell_type": "code",
   "execution_count": 3,
   "metadata": {
    "scrolled": true
   },
   "outputs": [],
   "source": [
    "def revision(YZ, WX):\n",
    "    palabras_transitivas=[]\n",
    "    for oracion in WX:\n",
    "        for item in oracion:\n",
    "            if item.endswith(YZ):\n",
    "                palabras_transitivas+=[item]\n",
    "    return palabras_transitivas"
   ]
  },
  {
   "cell_type": "code",
   "execution_count": 3,
   "metadata": {},
   "outputs": [],
   "source": [
    "def k_anteriores(oracion,Y,k):\n",
    "    lista_contextos = []\n",
    "    for i in range(len(oracion)):\n",
    "        word = oracion[i]\n",
    "        if word == Y:\n",
    "            r = k\n",
    "            for r in range(1,k+1):\n",
    "                if i-r < 0:\n",
    "                    r -= 1\n",
    "            lista_contextos += [oracion[i-r:i]]\n",
    "    return lista_contextos"
   ]
  },
  {
   "cell_type": "code",
   "execution_count": 26,
   "metadata": {
    "scrolled": true
   },
   "outputs": [
    {
     "data": {
      "text/plain": [
       "['piabueneu',\n",
       " 'nayaeneu',\n",
       " 'alhueyabueneu',\n",
       " 'ayúaeneu',\n",
       " 'ayuabueneu',\n",
       " 'quimaeneu',\n",
       " 'gnecanmaaeneu',\n",
       " 'genecaaeneu',\n",
       " 'llecantuaveneu']"
      ]
     },
     "execution_count": 26,
     "metadata": {},
     "output_type": "execute_result"
    }
   ],
   "source": [
    "revision(palabras, 'eneu')"
   ]
  },
  {
   "cell_type": "code",
   "execution_count": 6,
   "metadata": {},
   "outputs": [],
   "source": [
    "import sys"
   ]
  },
  {
   "cell_type": "code",
   "execution_count": 7,
   "metadata": {},
   "outputs": [
    {
     "name": "stdout",
     "output_type": "stream",
     "text": [
      "lista para buscar: palabras\n",
      "Terminación a buscar eneu\n",
      "[]\n"
     ]
    }
   ],
   "source": [
    "import sys\n",
    "revisar = revision(WX = input(\"lista para buscar: \"), YZ= input(\"Terminación a buscar \"))\n",
    "print(revisar)"
   ]
  },
  {
   "cell_type": "code",
   "execution_count": null,
   "metadata": {},
   "outputs": [],
   "source": [
    "revisar = revision(WX = input(\"lista para buscar: \"),\"eneu\")\n",
    "print(revisar)"
   ]
  },
  {
   "cell_type": "code",
   "execution_count": 5,
   "metadata": {},
   "outputs": [
    {
     "data": {
      "text/plain": [
       "['piabueneu',\n",
       " 'nayaeneu',\n",
       " 'alhueyabueneu',\n",
       " 'ayúaeneu',\n",
       " 'ayuabueneu',\n",
       " 'quimaeneu',\n",
       " 'gnecanmaaeneu',\n",
       " 'genecaaeneu',\n",
       " 'llecantuaveneu']"
      ]
     },
     "execution_count": 5,
     "metadata": {},
     "output_type": "execute_result"
    }
   ],
   "source": [
    "revision(palabras, 'eneu')"
   ]
  },
  {
   "cell_type": "code",
   "execution_count": 9,
   "metadata": {},
   "outputs": [],
   "source": [
    "def dict_contextos(lista_palabras,palabras,k):\n",
    "    D = {w:[] for w in lista_palabras}\n",
    "    for oracion in palabras:\n",
    "        for w in lista_palabras:\n",
    "            if w in oracion:\n",
    "                D[w]+=k_anteriores(oracion,w,k)\n",
    "    return D"
   ]
  },
  {
   "cell_type": "code",
   "execution_count": 12,
   "metadata": {},
   "outputs": [
    {
     "ename": "TypeError",
     "evalue": "unhashable type: 'list'",
     "output_type": "error",
     "traceback": [
      "\u001b[1;31m---------------------------------------------------------------------------\u001b[0m",
      "\u001b[1;31mTypeError\u001b[0m                                 Traceback (most recent call last)",
      "\u001b[1;32m<ipython-input-12-690412257c87>\u001b[0m in \u001b[0;36m<module>\u001b[1;34m\u001b[0m\n\u001b[1;32m----> 1\u001b[1;33m \u001b[0mcontextos\u001b[0m \u001b[1;33m=\u001b[0m \u001b[0mdict_contextos\u001b[0m\u001b[1;33m(\u001b[0m\u001b[0mpalabras\u001b[0m\u001b[1;33m,\u001b[0m\u001b[1;34m'eneu'\u001b[0m\u001b[1;33m,\u001b[0m\u001b[1;36m5\u001b[0m\u001b[1;33m)\u001b[0m\u001b[1;33m\u001b[0m\u001b[1;33m\u001b[0m\u001b[0m\n\u001b[0m",
      "\u001b[1;32m<ipython-input-9-1ba4d55378b7>\u001b[0m in \u001b[0;36mdict_contextos\u001b[1;34m(lista_palabras, palabras, k)\u001b[0m\n\u001b[0;32m      1\u001b[0m \u001b[1;32mdef\u001b[0m \u001b[0mdict_contextos\u001b[0m\u001b[1;33m(\u001b[0m\u001b[0mlista_palabras\u001b[0m\u001b[1;33m,\u001b[0m\u001b[0mpalabras\u001b[0m\u001b[1;33m,\u001b[0m\u001b[0mk\u001b[0m\u001b[1;33m)\u001b[0m\u001b[1;33m:\u001b[0m\u001b[1;33m\u001b[0m\u001b[1;33m\u001b[0m\u001b[0m\n\u001b[1;32m----> 2\u001b[1;33m     \u001b[0mD\u001b[0m \u001b[1;33m=\u001b[0m \u001b[1;33m{\u001b[0m\u001b[0mw\u001b[0m\u001b[1;33m:\u001b[0m\u001b[1;33m[\u001b[0m\u001b[1;33m]\u001b[0m \u001b[1;32mfor\u001b[0m \u001b[0mw\u001b[0m \u001b[1;32min\u001b[0m \u001b[0mlista_palabras\u001b[0m\u001b[1;33m}\u001b[0m\u001b[1;33m\u001b[0m\u001b[1;33m\u001b[0m\u001b[0m\n\u001b[0m\u001b[0;32m      3\u001b[0m     \u001b[1;32mfor\u001b[0m \u001b[0moracion\u001b[0m \u001b[1;32min\u001b[0m \u001b[0mpalabras\u001b[0m\u001b[1;33m:\u001b[0m\u001b[1;33m\u001b[0m\u001b[1;33m\u001b[0m\u001b[0m\n\u001b[0;32m      4\u001b[0m         \u001b[1;32mfor\u001b[0m \u001b[0mw\u001b[0m \u001b[1;32min\u001b[0m \u001b[0mlista_palabras\u001b[0m\u001b[1;33m:\u001b[0m\u001b[1;33m\u001b[0m\u001b[1;33m\u001b[0m\u001b[0m\n\u001b[0;32m      5\u001b[0m             \u001b[1;32mif\u001b[0m \u001b[0mw\u001b[0m \u001b[1;32min\u001b[0m \u001b[0moracion\u001b[0m\u001b[1;33m:\u001b[0m\u001b[1;33m\u001b[0m\u001b[1;33m\u001b[0m\u001b[0m\n",
      "\u001b[1;32m<ipython-input-9-1ba4d55378b7>\u001b[0m in \u001b[0;36m<dictcomp>\u001b[1;34m(.0)\u001b[0m\n\u001b[0;32m      1\u001b[0m \u001b[1;32mdef\u001b[0m \u001b[0mdict_contextos\u001b[0m\u001b[1;33m(\u001b[0m\u001b[0mlista_palabras\u001b[0m\u001b[1;33m,\u001b[0m\u001b[0mpalabras\u001b[0m\u001b[1;33m,\u001b[0m\u001b[0mk\u001b[0m\u001b[1;33m)\u001b[0m\u001b[1;33m:\u001b[0m\u001b[1;33m\u001b[0m\u001b[1;33m\u001b[0m\u001b[0m\n\u001b[1;32m----> 2\u001b[1;33m     \u001b[0mD\u001b[0m \u001b[1;33m=\u001b[0m \u001b[1;33m{\u001b[0m\u001b[0mw\u001b[0m\u001b[1;33m:\u001b[0m\u001b[1;33m[\u001b[0m\u001b[1;33m]\u001b[0m \u001b[1;32mfor\u001b[0m \u001b[0mw\u001b[0m \u001b[1;32min\u001b[0m \u001b[0mlista_palabras\u001b[0m\u001b[1;33m}\u001b[0m\u001b[1;33m\u001b[0m\u001b[1;33m\u001b[0m\u001b[0m\n\u001b[0m\u001b[0;32m      3\u001b[0m     \u001b[1;32mfor\u001b[0m \u001b[0moracion\u001b[0m \u001b[1;32min\u001b[0m \u001b[0mpalabras\u001b[0m\u001b[1;33m:\u001b[0m\u001b[1;33m\u001b[0m\u001b[1;33m\u001b[0m\u001b[0m\n\u001b[0;32m      4\u001b[0m         \u001b[1;32mfor\u001b[0m \u001b[0mw\u001b[0m \u001b[1;32min\u001b[0m \u001b[0mlista_palabras\u001b[0m\u001b[1;33m:\u001b[0m\u001b[1;33m\u001b[0m\u001b[1;33m\u001b[0m\u001b[0m\n\u001b[0;32m      5\u001b[0m             \u001b[1;32mif\u001b[0m \u001b[0mw\u001b[0m \u001b[1;32min\u001b[0m \u001b[0moracion\u001b[0m\u001b[1;33m:\u001b[0m\u001b[1;33m\u001b[0m\u001b[1;33m\u001b[0m\u001b[0m\n",
      "\u001b[1;31mTypeError\u001b[0m: unhashable type: 'list'"
     ]
    }
   ],
   "source": [
    "contextos = dict_contextos(palabras,'eneu',5)"
   ]
  },
  {
   "cell_type": "code",
   "execution_count": 6,
   "metadata": {},
   "outputs": [],
   "source": [
    "from ipywidgets import interact, interactive, fixed, interact_manual\n",
    "import ipywidgets as widgets"
   ]
  },
  {
   "cell_type": "code",
   "execution_count": 38,
   "metadata": {},
   "outputs": [],
   "source": [
    "def revision2(YZ): ##recibe una lista y un string que es el que busca\n",
    "    palabras_transitivas=[] ##defino la lista\n",
    "    for oracion in palabras: ## por cada oración de la lista\n",
    "        for item in oracion: ##y por cada palabra en la oración\n",
    "            if item.endswith(YZ): ##si esta termina en el string indicado\n",
    "                palabras_transitivas+=[item] ##la agrega a la lista\n",
    "    return palabras_transitivas\n"
   ]
  },
  {
   "cell_type": "code",
   "execution_count": 35,
   "metadata": {},
   "outputs": [
    {
     "data": {
      "text/plain": [
       "[]"
      ]
     },
     "execution_count": 35,
     "metadata": {},
     "output_type": "execute_result"
    }
   ],
   "source": [
    "k_anteriores(revision2('eneu'), , 6)\n",
    "    "
   ]
  },
  {
   "cell_type": "code",
   "execution_count": 39,
   "metadata": {},
   "outputs": [],
   "source": [
    "def k_anteriores(oracion,Y,k):\n",
    "    lista_contextos = []\n",
    "    for i in range(len(oracion)):\n",
    "        word = oracion[i]\n",
    "        if word == Y:\n",
    "            r = k\n",
    "            for r in range(1,k+1):\n",
    "                if i-r < 0:\n",
    "                    r -= 1\n",
    "            lista_contextos += [oracion[i-r:i]]\n",
    "    return lista_contextos"
   ]
  },
  {
   "cell_type": "code",
   "execution_count": 18,
   "metadata": {},
   "outputs": [
    {
     "data": {
      "application/vnd.jupyter.widget-view+json": {
       "model_id": "9877842b81b94549b765f7194e4bd668",
       "version_major": 2,
       "version_minor": 0
      },
      "text/plain": [
       "interactive(children=(Text(value='eneu', description='YZ'), Output()), _dom_classes=('widget-interact',))"
      ]
     },
     "metadata": {},
     "output_type": "display_data"
    }
   ],
   "source": [
    "interact(revision2, YZ='eneu');"
   ]
  },
  {
   "cell_type": "code",
   "execution_count": 15,
   "metadata": {},
   "outputs": [
    {
     "data": {
      "text/plain": [
       "[]"
      ]
     },
     "execution_count": 15,
     "metadata": {},
     "output_type": "execute_result"
    }
   ],
   "source": []
  },
  {
   "cell_type": "code",
   "execution_count": null,
   "metadata": {},
   "outputs": [],
   "source": []
  }
 ],
 "metadata": {
  "kernelspec": {
   "display_name": "Python 3",
   "language": "python",
   "name": "python3"
  },
  "language_info": {
   "codemirror_mode": {
    "name": "ipython",
    "version": 3
   },
   "file_extension": ".py",
   "mimetype": "text/x-python",
   "name": "python",
   "nbconvert_exporter": "python",
   "pygments_lexer": "ipython3",
   "version": "3.8.3"
  }
 },
 "nbformat": 4,
 "nbformat_minor": 4
}
