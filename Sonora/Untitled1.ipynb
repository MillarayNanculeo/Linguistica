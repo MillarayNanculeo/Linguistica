{
 "cells": [
  {
   "cell_type": "code",
   "execution_count": 14,
   "metadata": {},
   "outputs": [
    {
     "data": {
      "application/vnd.jupyter.widget-view+json": {
       "model_id": "daac3126a9474afda557df99b46988e7",
       "version_major": 2,
       "version_minor": 0
      },
      "text/plain": [
       "interactive(children=(Text(value='eneu', description='Contexto'), Output()), _dom_classes=('widget-interact',)…"
      ]
     },
     "metadata": {},
     "output_type": "display_data"
    },
    {
     "data": {
      "text/plain": [
       "<function __main__.revision2(Contexto)>"
      ]
     },
     "execution_count": 14,
     "metadata": {},
     "output_type": "execute_result"
    }
   ],
   "source": [
    "import glob\n",
    "from ipywidgets import interact, interactive, fixed, interact_manual\n",
    "import ipywidgets as widgets\n",
    "lista_files = glob.glob('Textos/*.txt')\n",
    "corpus = {}\n",
    "for file in lista_files:\n",
    "    with open(file, 'r', encoding=\"utf-8\") as file_input:\n",
    "        corpus[file[15:]]=file_input.read()  \n",
    "import string\n",
    "def remover_puntuacion(s): \n",
    "    for c in string.punctuation:\n",
    "        s=s.replace(c,\"\")\n",
    "        s=s.replace('\\t','')\n",
    "    return s\n",
    "corpus_misional = []\n",
    "for key in corpus.keys():\n",
    "    corpus_misional += [corpus[key]]\n",
    "string_corpus_misional=' '.join(corpus_misional)\n",
    "string_corpus_misional = string_corpus_misional.split('\\n')\n",
    "vacio=[oracion for oracion in string_corpus_misional if len(oracion)>0]\n",
    "sin_puntos = []\n",
    "for oracion in vacio:\n",
    "    oracion_limpia = remover_puntuacion(oracion)\n",
    "    sin_puntos += [oracion_limpia.lower()]\n",
    "palabras = []\n",
    "for oracion in sin_puntos:\n",
    "    palabras += [oracion.split(' ')]\n",
    "    def k_anteriores(oracion,Y,k):\n",
    "        lista_contextos = []\n",
    "        for i in range(len(oracion)):\n",
    "            word = oracion[i]\n",
    "            if word == Y:\n",
    "                r = k\n",
    "                for r in range(1,k+1):\n",
    "                    if i-r < 0:\n",
    "                        r -= 1\n",
    "        lista_contextos += [oracion[i-r:i]]\n",
    "        return lista_contextos\n",
    "\n",
    "def revision2(Contexto): ##recibe una lista y un string que es el que busca\n",
    "    palabras_transitivas=[] ##defino la lista\n",
    "    for oracion in palabras: ## por cada oración de la lista\n",
    "        for item in oracion: ##y por cada palabra en la oración\n",
    "            if item.endswith(Contexto): ##si esta termina en el string indicado\n",
    "                palabras_transitivas+=[item] ##la agrega a la lista\n",
    "    return palabras_transitivas\n",
    "interact(revision2, Contexto='eneu')"
   ]
  },
  {
   "cell_type": "code",
   "execution_count": 15,
   "metadata": {},
   "outputs": [
    {
     "ename": "NameError",
     "evalue": "name 'Contexto' is not defined",
     "output_type": "error",
     "traceback": [
      "\u001b[1;31m---------------------------------------------------------------------------\u001b[0m",
      "\u001b[1;31mNameError\u001b[0m                                 Traceback (most recent call last)",
      "\u001b[1;32m<ipython-input-15-33f06eda3671>\u001b[0m in \u001b[0;36m<module>\u001b[1;34m\u001b[0m\n\u001b[1;32m----> 1\u001b[1;33m \u001b[0mContexto\u001b[0m\u001b[1;33m\u001b[0m\u001b[1;33m\u001b[0m\u001b[0m\n\u001b[0m",
      "\u001b[1;31mNameError\u001b[0m: name 'Contexto' is not defined"
     ]
    }
   ],
   "source": [
    "Contexto"
   ]
  },
  {
   "cell_type": "code",
   "execution_count": null,
   "metadata": {},
   "outputs": [],
   "source": []
  }
 ],
 "metadata": {
  "kernelspec": {
   "display_name": "Python 3",
   "language": "python",
   "name": "python3"
  },
  "language_info": {
   "codemirror_mode": {
    "name": "ipython",
    "version": 3
   },
   "file_extension": ".py",
   "mimetype": "text/x-python",
   "name": "python",
   "nbconvert_exporter": "python",
   "pygments_lexer": "ipython3",
   "version": "3.8.3"
  }
 },
 "nbformat": 4,
 "nbformat_minor": 4
}
